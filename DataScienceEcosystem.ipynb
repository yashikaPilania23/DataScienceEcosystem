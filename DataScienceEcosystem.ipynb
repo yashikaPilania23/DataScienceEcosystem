{
  "metadata": {
    "kernelspec": {
      "name": "python",
      "display_name": "Python (Pyodide)",
      "language": "python"
    },
    "language_info": {
      "codemirror_mode": {
        "name": "python",
        "version": 3
      },
      "file_extension": ".py",
      "mimetype": "text/x-python",
      "name": "python",
      "nbconvert_exporter": "python",
      "pygments_lexer": "ipython3",
      "version": "3.8"
    }
  },
  "nbformat_minor": 4,
  "nbformat": 4,
  "cells": [
    {
      "cell_type": "markdown",
      "source": "# Data science tools and ecosystem",
      "metadata": {}
    },
    {
      "cell_type": "markdown",
      "source": "## Author: Yashika",
      "metadata": {}
    },
    {
      "cell_type": "markdown",
      "source": "In this notebook, Data Science tools and Ecosystem are Summarized ",
      "metadata": {}
    },
    {
      "cell_type": "markdown",
      "source": "**objectives** :\n* list common languages in data science\n* list commonly used libraries in data science\n* list common data science tools",
      "metadata": {}
    },
    {
      "cell_type": "markdown",
      "source": "Some of the common languages that data scientists use are:\n1. Python\n2. R\n3. SQL\n",
      "metadata": {}
    },
    {
      "cell_type": "markdown",
      "source": "Some of the commonly used libraries by data scientists include:\n 1. pandas\n 2. Tensorflow\n 3. numpy",
      "metadata": {}
    },
    {
      "cell_type": "markdown",
      "source": "| Data Science Tools|\n|-------------------|\n|Python|\n|Scikit learn|\n|Rstudio|",
      "metadata": {}
    },
    {
      "cell_type": "markdown",
      "source": "### Below are a few expressions of evaluating arithmentic expressions in python",
      "metadata": {}
    },
    {
      "cell_type": "code",
      "source": "# this is a simple procedure to multiply then add integers\n(3*4)+5",
      "metadata": {
        "trusted": true
      },
      "outputs": [
        {
          "execution_count": 6,
          "output_type": "execute_result",
          "data": {
            "text/plain": "17"
          },
          "metadata": {}
        }
      ],
      "execution_count": 6
    },
    {
      "cell_type": "markdown",
      "source": "this will convert 200 minutes to hours by dividing by 60:\n\n",
      "metadata": {}
    },
    {
      "cell_type": "code",
      "source": "(200/60)\n",
      "metadata": {
        "trusted": true
      },
      "outputs": [
        {
          "execution_count": 8,
          "output_type": "execute_result",
          "data": {
            "text/plain": "3.3333333333333335"
          },
          "metadata": {}
        }
      ],
      "execution_count": 8
    },
    {
      "cell_type": "code",
      "source": "",
      "metadata": {
        "trusted": true
      },
      "outputs": [],
      "execution_count": null
    }
  ]
}