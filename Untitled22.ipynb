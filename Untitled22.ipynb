{
  "nbformat": 4,
  "nbformat_minor": 0,
  "metadata": {
    "colab": {
      "provenance": [],
      "authorship_tag": "ABX9TyNFrojP4Jenm0+u9A2roPGp",
      "include_colab_link": true
    },
    "kernelspec": {
      "name": "python3",
      "display_name": "Python 3"
    },
    "language_info": {
      "name": "python"
    }
  },
  "cells": [
    {
      "cell_type": "markdown",
      "metadata": {
        "id": "view-in-github",
        "colab_type": "text"
      },
      "source": [
        "<a href=\"https://colab.research.google.com/github/yashikaPilania23/DataScienceEcosystem/blob/main/Untitled22.ipynb\" target=\"_parent\"><img src=\"https://colab.research.google.com/assets/colab-badge.svg\" alt=\"Open In Colab\"/></a>"
      ]
    },
    {
      "cell_type": "code",
      "source": [
        "# Step 1: Upload the dataset\n",
        "from google.colab import files\n",
        "import zipfile\n",
        "import os\n",
        "\n",
        "# Upload the file from your local system\n",
        "uploaded = files.upload()\n",
        "\n",
        "# Assuming the file is named 'concrete_data_week4.zip'\n",
        "zip_file = 'concrete_data_week4.zip'\n",
        "\n",
        "# Extracting the zip file\n",
        "with zipfile.ZipFile(zip_file, 'r') as zip_ref:\n",
        "    zip_ref.extractall('concrete_data')  # Extract to 'concrete_data' directory\n",
        "\n",
        "# List the files after extraction\n",
        "os.listdir('concrete_data')\n"
      ],
      "metadata": {
        "colab": {
          "base_uri": "https://localhost:8080/",
          "height": 54
        },
        "id": "_21iko8VbbEK",
        "outputId": "c6f82586-dd04-40b9-edf5-c8a8ae9dae97"
      },
      "execution_count": null,
      "outputs": [
        {
          "output_type": "display_data",
          "data": {
            "text/plain": [
              "<IPython.core.display.HTML object>"
            ],
            "text/html": [
              "\n",
              "     <input type=\"file\" id=\"files-128dbace-96f6-4e75-a930-29669ca1cf76\" name=\"files[]\" multiple disabled\n",
              "        style=\"border:none\" />\n",
              "     <output id=\"result-128dbace-96f6-4e75-a930-29669ca1cf76\">\n",
              "      Upload widget is only available when the cell has been executed in the\n",
              "      current browser session. Please rerun this cell to enable.\n",
              "      </output>\n",
              "      <script>// Copyright 2017 Google LLC\n",
              "//\n",
              "// Licensed under the Apache License, Version 2.0 (the \"License\");\n",
              "// you may not use this file except in compliance with the License.\n",
              "// You may obtain a copy of the License at\n",
              "//\n",
              "//      http://www.apache.org/licenses/LICENSE-2.0\n",
              "//\n",
              "// Unless required by applicable law or agreed to in writing, software\n",
              "// distributed under the License is distributed on an \"AS IS\" BASIS,\n",
              "// WITHOUT WARRANTIES OR CONDITIONS OF ANY KIND, either express or implied.\n",
              "// See the License for the specific language governing permissions and\n",
              "// limitations under the License.\n",
              "\n",
              "/**\n",
              " * @fileoverview Helpers for google.colab Python module.\n",
              " */\n",
              "(function(scope) {\n",
              "function span(text, styleAttributes = {}) {\n",
              "  const element = document.createElement('span');\n",
              "  element.textContent = text;\n",
              "  for (const key of Object.keys(styleAttributes)) {\n",
              "    element.style[key] = styleAttributes[key];\n",
              "  }\n",
              "  return element;\n",
              "}\n",
              "\n",
              "// Max number of bytes which will be uploaded at a time.\n",
              "const MAX_PAYLOAD_SIZE = 100 * 1024;\n",
              "\n",
              "function _uploadFiles(inputId, outputId) {\n",
              "  const steps = uploadFilesStep(inputId, outputId);\n",
              "  const outputElement = document.getElementById(outputId);\n",
              "  // Cache steps on the outputElement to make it available for the next call\n",
              "  // to uploadFilesContinue from Python.\n",
              "  outputElement.steps = steps;\n",
              "\n",
              "  return _uploadFilesContinue(outputId);\n",
              "}\n",
              "\n",
              "// This is roughly an async generator (not supported in the browser yet),\n",
              "// where there are multiple asynchronous steps and the Python side is going\n",
              "// to poll for completion of each step.\n",
              "// This uses a Promise to block the python side on completion of each step,\n",
              "// then passes the result of the previous step as the input to the next step.\n",
              "function _uploadFilesContinue(outputId) {\n",
              "  const outputElement = document.getElementById(outputId);\n",
              "  const steps = outputElement.steps;\n",
              "\n",
              "  const next = steps.next(outputElement.lastPromiseValue);\n",
              "  return Promise.resolve(next.value.promise).then((value) => {\n",
              "    // Cache the last promise value to make it available to the next\n",
              "    // step of the generator.\n",
              "    outputElement.lastPromiseValue = value;\n",
              "    return next.value.response;\n",
              "  });\n",
              "}\n",
              "\n",
              "/**\n",
              " * Generator function which is called between each async step of the upload\n",
              " * process.\n",
              " * @param {string} inputId Element ID of the input file picker element.\n",
              " * @param {string} outputId Element ID of the output display.\n",
              " * @return {!Iterable<!Object>} Iterable of next steps.\n",
              " */\n",
              "function* uploadFilesStep(inputId, outputId) {\n",
              "  const inputElement = document.getElementById(inputId);\n",
              "  inputElement.disabled = false;\n",
              "\n",
              "  const outputElement = document.getElementById(outputId);\n",
              "  outputElement.innerHTML = '';\n",
              "\n",
              "  const pickedPromise = new Promise((resolve) => {\n",
              "    inputElement.addEventListener('change', (e) => {\n",
              "      resolve(e.target.files);\n",
              "    });\n",
              "  });\n",
              "\n",
              "  const cancel = document.createElement('button');\n",
              "  inputElement.parentElement.appendChild(cancel);\n",
              "  cancel.textContent = 'Cancel upload';\n",
              "  const cancelPromise = new Promise((resolve) => {\n",
              "    cancel.onclick = () => {\n",
              "      resolve(null);\n",
              "    };\n",
              "  });\n",
              "\n",
              "  // Wait for the user to pick the files.\n",
              "  const files = yield {\n",
              "    promise: Promise.race([pickedPromise, cancelPromise]),\n",
              "    response: {\n",
              "      action: 'starting',\n",
              "    }\n",
              "  };\n",
              "\n",
              "  cancel.remove();\n",
              "\n",
              "  // Disable the input element since further picks are not allowed.\n",
              "  inputElement.disabled = true;\n",
              "\n",
              "  if (!files) {\n",
              "    return {\n",
              "      response: {\n",
              "        action: 'complete',\n",
              "      }\n",
              "    };\n",
              "  }\n",
              "\n",
              "  for (const file of files) {\n",
              "    const li = document.createElement('li');\n",
              "    li.append(span(file.name, {fontWeight: 'bold'}));\n",
              "    li.append(span(\n",
              "        `(${file.type || 'n/a'}) - ${file.size} bytes, ` +\n",
              "        `last modified: ${\n",
              "            file.lastModifiedDate ? file.lastModifiedDate.toLocaleDateString() :\n",
              "                                    'n/a'} - `));\n",
              "    const percent = span('0% done');\n",
              "    li.appendChild(percent);\n",
              "\n",
              "    outputElement.appendChild(li);\n",
              "\n",
              "    const fileDataPromise = new Promise((resolve) => {\n",
              "      const reader = new FileReader();\n",
              "      reader.onload = (e) => {\n",
              "        resolve(e.target.result);\n",
              "      };\n",
              "      reader.readAsArrayBuffer(file);\n",
              "    });\n",
              "    // Wait for the data to be ready.\n",
              "    let fileData = yield {\n",
              "      promise: fileDataPromise,\n",
              "      response: {\n",
              "        action: 'continue',\n",
              "      }\n",
              "    };\n",
              "\n",
              "    // Use a chunked sending to avoid message size limits. See b/62115660.\n",
              "    let position = 0;\n",
              "    do {\n",
              "      const length = Math.min(fileData.byteLength - position, MAX_PAYLOAD_SIZE);\n",
              "      const chunk = new Uint8Array(fileData, position, length);\n",
              "      position += length;\n",
              "\n",
              "      const base64 = btoa(String.fromCharCode.apply(null, chunk));\n",
              "      yield {\n",
              "        response: {\n",
              "          action: 'append',\n",
              "          file: file.name,\n",
              "          data: base64,\n",
              "        },\n",
              "      };\n",
              "\n",
              "      let percentDone = fileData.byteLength === 0 ?\n",
              "          100 :\n",
              "          Math.round((position / fileData.byteLength) * 100);\n",
              "      percent.textContent = `${percentDone}% done`;\n",
              "\n",
              "    } while (position < fileData.byteLength);\n",
              "  }\n",
              "\n",
              "  // All done.\n",
              "  yield {\n",
              "    response: {\n",
              "      action: 'complete',\n",
              "    }\n",
              "  };\n",
              "}\n",
              "\n",
              "scope.google = scope.google || {};\n",
              "scope.google.colab = scope.google.colab || {};\n",
              "scope.google.colab._files = {\n",
              "  _uploadFiles,\n",
              "  _uploadFilesContinue,\n",
              "};\n",
              "})(self);\n",
              "</script> "
            ]
          },
          "metadata": {}
        }
      ]
    },
    {
      "cell_type": "code",
      "source": [
        "# Step 2: Create directories for train, validation, and test\n",
        "base_dir = 'concrete_data/organized_data'\n",
        "train_dir = os.path.join(base_dir, 'train')\n",
        "val_dir = os.path.join(base_dir, 'validation')\n",
        "test_dir = os.path.join(base_dir, 'test')\n",
        "\n",
        "# Create these directories\n",
        "os.makedirs(train_dir, exist_ok=True)\n",
        "os.makedirs(val_dir, exist_ok=True)\n",
        "os.makedirs(test_dir, exist_ok=True)\n",
        "\n",
        "# Within each directory, create subdirectories for each class (e.g., 'cracked' and 'not_cracked')\n",
        "train_cracked_dir = os.path.join(train_dir, 'cracked')\n",
        "train_not_cracked_dir = os.path.join(train_dir, 'not_cracked')\n",
        "val_cracked_dir = os.path.join(val_dir, 'cracked')\n",
        "val_not_cracked_dir = os.path.join(val_dir, 'not_cracked')\n",
        "test_cracked_dir = os.path.join(test_dir, 'cracked')\n",
        "test_not_cracked_dir = os.path.join(test_dir, 'not_cracked')\n",
        "\n",
        "# Make class directories\n",
        "os.makedirs(train_cracked_dir, exist_ok=True)\n",
        "os.makedirs(train_not_cracked_dir, exist_ok=True)\n",
        "os.makedirs(val_cracked_dir, exist_ok=True)\n",
        "os.makedirs(val_not_cracked_dir, exist_ok=True)\n",
        "os.makedirs(test_cracked_dir, exist_ok=True)\n",
        "os.makedirs(test_not_cracked_dir, exist_ok=True)\n",
        "\n",
        "# After organizing, you can move files to these directories (assuming you have cracked and not cracked folders):\n",
        "# For example:\n",
        "# !mv concrete_data/cracked/*.jpg concrete_data/organized_data/train/cracked/\n",
        "# !mv concrete_data/not_cracked/*.jpg concrete_data/organized_data/train/not_cracked/\n"
      ],
      "metadata": {
        "id": "rKwWG5EGbha4"
      },
      "execution_count": null,
      "outputs": []
    },
    {
      "cell_type": "code",
      "source": [
        "import shutil\n",
        "import random\n",
        "\n",
        "# Function to split data into train, validation, and test sets\n",
        "def split_data(source_dir, train_dir, val_dir, test_dir, split_train=0.7, split_val=0.15, split_test=0.15):\n",
        "    files = os.listdir(source_dir)\n",
        "    random.shuffle(files)\n",
        "\n",
        "    train_size = int(len(files) * split_train)\n",
        "    val_size = int(len(files) * split_val)\n",
        "\n",
        "    train_files = files[:train_size]\n",
        "    val_files = files[train_size:train_size + val_size]\n",
        "    test_files = files[train_size + val_size:]\n",
        "\n",
        "    for file in train_files:\n",
        "        shutil.move(os.path.join(source_dir, file), train_dir)\n",
        "    for file in val_files:\n",
        "        shutil.move(os.path.join(source_dir, file), val_dir)\n",
        "    for file in test_files:\n",
        "        shutil.move(os.path.join(source_dir, file), test_dir)\n",
        "\n",
        "# Example for 'cracked' and 'not_cracked' classes\n",
        "split_data('concrete_data/cracked', train_cracked_dir, val_cracked_dir, test_cracked_dir)\n",
        "split_data('concrete_data/not_cracked', train_not_cracked_dir, val_not_cracked_dir, test_not_cracked_dir)\n"
      ],
      "metadata": {
        "id": "HqtU1uM7bjtK"
      },
      "execution_count": null,
      "outputs": []
    },
    {
      "cell_type": "code",
      "source": [
        "# Verify that the directories were created and contain images\n",
        "print(\"Training cracked images:\", len(os.listdir(train_cracked_dir)))\n",
        "print(\"Training not cracked images:\", len(os.listdir(train_not_cracked_dir)))\n",
        "print(\"Validation cracked images:\", len(os.listdir(val_cracked_dir)))\n",
        "print(\"Validation not cracked images:\", len(os.listdir(val_not_cracked_dir)))\n",
        "print(\"Test cracked images:\", len(os.listdir(test_cracked_dir)))\n",
        "print(\"Test not cracked images:\", len(os.listdir(test_not_cracked_dir)))\n"
      ],
      "metadata": {
        "id": "Qh-Iv1Xjbl0i"
      },
      "execution_count": null,
      "outputs": []
    },
    {
      "cell_type": "code",
      "source": [
        "import tensorflow as tf\n",
        "from tensorflow.keras.applications import VGG16, ResNet50\n",
        "from tensorflow.keras.layers import Dense, Flatten\n",
        "from tensorflow.keras.models import Sequential\n",
        "from tensorflow.keras.preprocessing.image import ImageDataGenerator\n",
        "from tensorflow.keras.applications.vgg16 import preprocess_input\n"
      ],
      "metadata": {
        "id": "v2iAr2uPbpTf"
      },
      "execution_count": null,
      "outputs": []
    },
    {
      "cell_type": "code",
      "source": [
        "train_datagen = ImageDataGenerator(preprocessing_function=preprocess_input,\n",
        "                                   rescale=1./255,\n",
        "                                   rotation_range=40,\n",
        "                                   width_shift_range=0.2,\n",
        "                                   height_shift_range=0.2,\n",
        "                                   shear_range=0.2,\n",
        "                                   zoom_range=0.2,\n",
        "                                   horizontal_flip=True,\n",
        "                                   fill_mode='nearest')\n",
        "\n",
        "val_datagen = ImageDataGenerator(preprocessing_function=preprocess_input, rescale=1./255)\n",
        "\n",
        "train_generator = train_datagen.flow_from_directory(\n",
        "    'path_to_training_data',\n",
        "    target_size=(224, 224),\n",
        "    batch_size=100,\n",
        "    class_mode='categorical'\n",
        ")\n",
        "\n",
        "val_generator = val_datagen.flow_from_directory(\n",
        "    'path_to_validation_data',\n",
        "    target_size=(224, 224),\n",
        "    batch_size=100,\n",
        "    class_mode='categorical'\n",
        ")\n"
      ],
      "metadata": {
        "id": "h2K0BRJtbqYw"
      },
      "execution_count": null,
      "outputs": []
    },
    {
      "cell_type": "code",
      "source": [
        "vgg16_base = VGG16(weights='imagenet', include_top=False, input_shape=(224, 224, 3))\n",
        "\n",
        "model_vgg16 = Sequential()\n",
        "model_vgg16.add(vgg16_base)\n",
        "model_vgg16.add(Flatten())\n",
        "model_vgg16.add(Dense(256, activation='relu'))\n",
        "model_vgg16.add(Dense(2, activation='softmax'))  # Assuming 2 classes: cracked and not cracked\n",
        "\n",
        "# Freezing the layers of VGG16 base\n",
        "for layer in vgg16_base.layers:\n",
        "    layer.trainable = False\n",
        "\n",
        "# Compiling the model\n",
        "model_vgg16.compile(optimizer='adam', loss='categorical_crossentropy', metrics=['accuracy'])\n"
      ],
      "metadata": {
        "id": "99oD6zMSbtjD"
      },
      "execution_count": null,
      "outputs": []
    },
    {
      "cell_type": "code",
      "source": [
        "vgg16_base = VGG16(weights='imagenet', include_top=False, input_shape=(224, 224, 3))\n",
        "\n",
        "model_vgg16 = Sequential()\n",
        "model_vgg16.add(vgg16_base)\n",
        "model_vgg16.add(Flatten())\n",
        "model_vgg16.add(Dense(256, activation='relu'))\n",
        "model_vgg16.add(Dense(2, activation='softmax'))  # Assuming 2 classes: cracked and not cracked\n",
        "\n",
        "# Freezing the layers of VGG16 base\n",
        "for layer in vgg16_base.layers:\n",
        "    layer.trainable = False\n",
        "\n",
        "# Compiling the model\n",
        "model_vgg16.compile(optimizer='adam', loss='categorical_crossentropy', metrics=['accuracy'])\n"
      ],
      "metadata": {
        "id": "M21h787XbwJQ"
      },
      "execution_count": null,
      "outputs": []
    },
    {
      "cell_type": "code",
      "source": [
        "model_resnet = tf.keras.models.load_model('path_to_resnet50_model.h5')\n"
      ],
      "metadata": {
        "id": "1ELwRjn_bxOj"
      },
      "execution_count": null,
      "outputs": []
    },
    {
      "cell_type": "code",
      "source": [
        "test_datagen = ImageDataGenerator(preprocessing_function=preprocess_input, rescale=1./255)\n",
        "\n",
        "test_generator = test_datagen.flow_from_directory(\n",
        "    'path_to_test_data',\n",
        "    target_size=(224, 224),\n",
        "    batch_size=100,\n",
        "    class_mode='categorical',\n",
        "    shuffle=False\n",
        ")\n"
      ],
      "metadata": {
        "id": "xpeGHjFMb0uC"
      },
      "execution_count": null,
      "outputs": []
    },
    {
      "cell_type": "code",
      "source": [
        "# VGG16 Evaluation\n",
        "vgg16_eval = model_vgg16.evaluate(test_generator)\n",
        "print(f'VGG16 Model Accuracy: {vgg16_eval[1] * 100:.2f}%')\n",
        "\n",
        "# ResNet50 Evaluation\n",
        "resnet_eval = model_resnet.evaluate(test_generator)\n",
        "print(f'ResNet50 Model Accuracy: {resnet_eval[1] * 100:.2f}%')\n"
      ],
      "metadata": {
        "id": "pSEA2EcFb2h0"
      },
      "execution_count": null,
      "outputs": []
    },
    {
      "cell_type": "code",
      "source": [
        "predictions_vgg16 = model_vgg16.predict(test_generator)\n",
        "predictions_resnet = model_resnet.predict(test_generator)\n",
        "\n",
        "# Displaying predictions for the first five images\n",
        "print(f'VGG16 Predictions: {predictions_vgg16[:5]}')\n",
        "print(f'ResNet50 Predictions: {predictions_resnet[:5]}')\n"
      ],
      "metadata": {
        "id": "lxWy4ioVb3mL"
      },
      "execution_count": null,
      "outputs": []
    }
  ]
}